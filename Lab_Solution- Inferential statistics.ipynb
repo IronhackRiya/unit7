{
 "cells": [
  {
   "cell_type": "markdown",
   "metadata": {},
   "source": [
    "# Lab Info"
   ]
  },
  {
   "cell_type": "markdown",
   "metadata": {},
   "source": [
    "* It is assumed that the mean systolic blood pressure is <b> μ = 120 mm Hg </b>. \n",
    "* In the Honolulu Heart Study, a sample of <b> n = 100 people</b> had an average systolic blood pressure of <b> μ = 130.1 mm Hg </b> with a standard deviation of <b> 21.21 mm Hg</b>. \n",
    "<b>Is the group significantly different (with respect to systolic blood pressure!) from the regular population?</b>\n",
    "\n",
    "\n",
    "<b> Instructions: </b> \n",
    "* Set up the hypothesis test.\n",
    "* Write down all the steps followed for setting up the test.\n",
    "* Calculate the test statistic by hand and also code it in Python. It should be 4.76190. "
   ]
  },
  {
   "cell_type": "markdown",
   "metadata": {
    "id": "LNDnKcO7P284"
   },
   "source": [
    "## Library loading"
   ]
  },
  {
   "cell_type": "code",
   "execution_count": 15,
   "metadata": {
    "executionInfo": {
     "elapsed": 1702,
     "status": "ok",
     "timestamp": 1605600553799,
     "user": {
      "displayName": "Ignacio Soteras",
      "photoUrl": "",
      "userId": "02050793736257155229"
     },
     "user_tz": -60
    },
    "id": "izr9tAHQP2h7"
   },
   "outputs": [],
   "source": [
    "import pandas as pd\n",
    "import numpy as np\n",
    "pd.set_option('display.max_columns', None)\n",
    "import warnings\n",
    "warnings.filterwarnings('ignore')\n",
    "import matplotlib.pyplot as plt\n",
    "import seaborn as sns \n",
    "from scipy import stats"
   ]
  },
  {
   "cell_type": "markdown",
   "metadata": {
    "id": "wmjHye95DZkV"
   },
   "source": [
    "## Hypothesis testing"
   ]
  },
  {
   "cell_type": "markdown",
   "metadata": {
    "id": "8DuoMmAOLWYS"
   },
   "source": [
    "We want to test if our the **sample mean** is not equal to the **population mean** = 120. We also know that our **sample** has a size of 100 individuals.\n",
    "\n",
    "$t = \\frac{(\\bar{X}-\\mu_{0})}{\\hat{\\sigma}/\\sqrt{n}}$\n",
    "\n",
    "where:\n",
    "\n",
    "* $\\bar{X}$ is the **sample mean**\n",
    "* $\\mu_{0}$ is the **population mean**\n",
    "* $\\hat{\\sigma}$ is the **sample standard deviation**\n",
    "* $n$ is the number of measures in our sample"
   ]
  },
  {
   "cell_type": "code",
   "execution_count": 1,
   "metadata": {
    "colab": {
     "base_uri": "https://localhost:8080/"
    },
    "executionInfo": {
     "elapsed": 689,
     "status": "ok",
     "timestamp": 1605612731747,
     "user": {
      "displayName": "Ignacio Soteras",
      "photoUrl": "",
      "userId": "02050793736257155229"
     },
     "user_tz": -60
    },
    "id": "UzOQzuSaDcnm",
    "outputId": "d20847cc-3930-4957-ae3c-e55b354eefba"
   },
   "outputs": [
    {
     "name": "stdout",
     "output_type": "stream",
     "text": [
      "Statistic is:  4.761904761904759\n"
     ]
    }
   ],
   "source": [
    "#Example 1 \n",
    "\n",
    "# Calculating T statistic for one sample t test\n",
    "\n",
    "import math\n",
    "\n",
    "sample_mean = 130.1\n",
    "pop_mean = 120\n",
    "sample_std = 21.21\n",
    "n = 100\n",
    "statistic = (sample_mean - pop_mean)/(sample_std/math.sqrt(n))\n",
    "print(\"Statistic is: \", statistic)"
   ]
  },
  {
   "cell_type": "markdown",
   "metadata": {},
   "source": [
    "The critical region approach tells us to reject the null hypothesis at the  level if  or if . Therefore, we reject the null hypothesis because , and therefore falls in the rejection region:\n",
    "\n",
    "Source: https://online.stat.psu.edu/stat415/book/export/html/869"
   ]
  },
  {
   "cell_type": "code",
   "execution_count": 25,
   "metadata": {},
   "outputs": [
    {
     "name": "stdout",
     "output_type": "stream",
     "text": [
      "P value is:  3.3175061568968545e-06\n",
      "Critical Value of z is:  -1.9844674544266925\n"
     ]
    }
   ],
   "source": [
    "# Using python to find the p value and critical value\n",
    "\n",
    "from scipy.stats import t\n",
    "\n",
    "print(\"P value is: \", 1- t.cdf(statistic,n-2))\n",
    "print(\"Critical Value of z is: \", t.ppf(0.025, n-2)) #alpha is 0.05"
   ]
  },
  {
   "cell_type": "markdown",
   "metadata": {},
   "source": [
    "I got confused in the last one, will need to do further reading on this.. "
   ]
  },
  {
   "cell_type": "code",
   "execution_count": null,
   "metadata": {},
   "outputs": [],
   "source": []
  }
 ],
 "metadata": {
  "colab": {
   "authorship_tag": "ABX9TyMlOaCC6SP6x6XBf1sC/Jb6",
   "name": "Morning.ipynb",
   "provenance": []
  },
  "kernelspec": {
   "display_name": "Python 3",
   "language": "python",
   "name": "python3"
  },
  "language_info": {
   "codemirror_mode": {
    "name": "ipython",
    "version": 3
   },
   "file_extension": ".py",
   "mimetype": "text/x-python",
   "name": "python",
   "nbconvert_exporter": "python",
   "pygments_lexer": "ipython3",
   "version": "3.8.3"
  }
 },
 "nbformat": 4,
 "nbformat_minor": 1
}
